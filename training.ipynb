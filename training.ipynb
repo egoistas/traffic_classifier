{
 "cells": [
  {
   "cell_type": "code",
   "execution_count": 1,
   "metadata": {},
   "outputs": [],
   "source": [
    "import pandas as pd\n",
    "from sklearn.model_selection import train_test_split\n",
    "from sklearn.preprocessing import StandardScaler, LabelEncoder\n",
    "from sklearn.ensemble import RandomForestClassifier\n",
    "from sklearn.metrics import classification_report, accuracy_score\n",
    "import joblib\n",
    "import os"
   ]
  },
  {
   "cell_type": "code",
   "execution_count": 2,
   "metadata": {},
   "outputs": [],
   "source": [
    "train_df = pd.read_csv(\"../datasets/training_dataset_new.csv\")\n",
    "test_df = pd.read_csv(\"../datasets/testing_dataset_new.csv\")"
   ]
  },
  {
   "cell_type": "code",
   "execution_count": 3,
   "metadata": {},
   "outputs": [],
   "source": [
    "numerical_features = ['dur', 'spkts', 'dpkts', 'sbytes', 'dbytes', 'rate', 'sttl', 'ct_srv_src', 'ct_dst_ltm']\n",
    "categorical_features = ['proto', 'service', 'state']\n",
    "target = 'attack_cat'"
   ]
  },
  {
   "cell_type": "code",
   "execution_count": 4,
   "metadata": {},
   "outputs": [],
   "source": [
    "train_df = pd.get_dummies(train_df, columns=categorical_features, drop_first=True)\n",
    "test_df = pd.get_dummies(test_df, columns=categorical_features, drop_first=True)"
   ]
  },
  {
   "cell_type": "code",
   "execution_count": 5,
   "metadata": {},
   "outputs": [],
   "source": [
    "test_df = test_df.reindex(columns=train_df.columns, fill_value=0)"
   ]
  },
  {
   "cell_type": "code",
   "execution_count": 6,
   "metadata": {},
   "outputs": [],
   "source": [
    "categorical_encoded_features = [\n",
    "    col for col in train_df.columns \n",
    "    if col.startswith('proto_') or col.startswith('service_') or col.startswith('state_')\n",
    "]\n",
    "features = numerical_features + categorical_encoded_features"
   ]
  },
  {
   "cell_type": "code",
   "execution_count": 7,
   "metadata": {},
   "outputs": [],
   "source": [
    "le = LabelEncoder()\n",
    "train_df[target] = le.fit_transform(train_df[target])\n",
    "test_df[target] = le.transform(test_df[target])"
   ]
  },
  {
   "cell_type": "code",
   "execution_count": 8,
   "metadata": {},
   "outputs": [],
   "source": [
    "X_train = train_df[features]\n",
    "y_train = train_df[target]\n",
    "X_test = test_df[features]\n",
    "y_test = test_df[target]"
   ]
  },
  {
   "cell_type": "code",
   "execution_count": 9,
   "metadata": {},
   "outputs": [],
   "source": [
    "scaler = StandardScaler()\n",
    "X_train[numerical_features] = scaler.fit_transform(X_train[numerical_features].copy())\n",
    "X_test[numerical_features] = scaler.transform(X_test[numerical_features].copy())"
   ]
  },
  {
   "cell_type": "code",
   "execution_count": 10,
   "metadata": {},
   "outputs": [],
   "source": [
    "model = RandomForestClassifier(random_state=42, class_weight='balanced')\n",
    "model.fit(X_train, y_train)"
   ]
  },
  {
   "cell_type": "code",
   "execution_count": 11,
   "metadata": {},
   "outputs": [],
   "source": [
    "y_pred = model.predict(X_test)"
   ]
  },
  {
   "cell_type": "code",
   "execution_count": 12,
   "metadata": {},
   "outputs": [
    {
     "name": "stdout",
     "output_type": "stream",
     "text": [
      "Accuracy:  0.753\n",
      "                precision    recall  f1-score   support\n",
      "\n",
      "      Analysis       0.05      0.03      0.04      2000\n",
      "      Backdoor       0.07      0.14      0.09      1746\n",
      "           DoS       0.34      0.65      0.45     12264\n",
      "      Exploits       0.84      0.52      0.65     33393\n",
      "       Fuzzers       0.71      0.28      0.40     18184\n",
      "       Generic       0.95      0.98      0.96     40000\n",
      "        Normal       0.79      0.96      0.87     56000\n",
      "Reconnaissance       0.91      0.73      0.81     10491\n",
      "     Shellcode       0.61      0.30      0.40      1133\n",
      "         Worms       0.71      0.34      0.46       130\n",
      "\n",
      "      accuracy                           0.75    175341\n",
      "     macro avg       0.60      0.49      0.51    175341\n",
      "  weighted avg       0.79      0.75      0.75    175341\n",
      "\n"
     ]
    }
   ],
   "source": [
    "target_names = [str(class_name) for class_name in le.classes_]\n",
    "print(\"Accuracy: \", accuracy_score(y_test, y_pred))\n",
    "print(classification_report(y_test, y_pred, target_names=target_names))"
   ]
  },
  {
   "cell_type": "code",
   "execution_count": 13,
   "metadata": {},
   "outputs": [],
   "source": [
    "output_dir = \"../tune_files\"\n",
    "if not os.path.exists(output_dir):\n",
    "    os.makedirs(output_dir)\n",
    "\n",
    "joblib.dump(model, os.path.join(output_dir, \"random_forest_model.joblib\"))\n",
    "joblib.dump(scaler, os.path.join(output_dir, \"scaler.joblib\"))\n",
    "joblib.dump(le, os.path.join(output_dir, \"label_encoder.joblib\"))\n",
    "\n",
    "print(\"Model, scaler, and label encoder saved successfully.\")"
   ]
  }
 ],
 "metadata": {
  "kernelspec": {
   "display_name": "Python 3",
   "language": "python",
   "name": "python3"
  },
  "language_info": {
   "codemirror_mode": {
    "name": "ipython",
    "version": 3
   },
   "file_extension": ".py",
   "mimetype": "text/x-python",
   "name": "python",
   "nbconvert_exporter": "python",
   "pygments_lexer": "ipython3",
   "version": "3.12.6"
  }
 },
 "nbformat": 4,
 "nbformat_minor": 2
}
